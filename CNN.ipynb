{
  "nbformat": 4,
  "nbformat_minor": 0,
  "metadata": {
    "colab": {
      "name": "CNN.ipynb",
      "provenance": [],
      "authorship_tag": "ABX9TyMSiymBbFRA2+zOI34x7xVG",
      "include_colab_link": true
    },
    "kernelspec": {
      "name": "python3",
      "display_name": "Python 3"
    },
    "language_info": {
      "name": "python"
    },
    "accelerator": "GPU"
  },
  "cells": [
    {
      "cell_type": "markdown",
      "metadata": {
        "id": "view-in-github",
        "colab_type": "text"
      },
      "source": [
        "<a href=\"https://colab.research.google.com/github/oki-aryawan/All-OpenCV/blob/main/CNN.ipynb\" target=\"_parent\"><img src=\"https://colab.research.google.com/assets/colab-badge.svg\" alt=\"Open In Colab\"/></a>"
      ]
    },
    {
      "cell_type": "code",
      "execution_count": 7,
      "metadata": {
        "colab": {
          "base_uri": "https://localhost:8080/"
        },
        "id": "wdV8PwKOho0H",
        "outputId": "ca5b1bfd-c53c-4d41-8bc0-30cabe026fe9"
      },
      "outputs": [
        {
          "output_type": "stream",
          "name": "stdout",
          "text": [
            "Drive already mounted at /content/drive; to attempt to forcibly remount, call drive.mount(\"/content/drive\", force_remount=True).\n"
          ]
        }
      ],
      "source": [
        "import dlib\n",
        "import cv2\n",
        "from google.colab.patches import cv2_imshow\n",
        "from google.colab import drive\n",
        "drive.mount('/content/drive')"
      ]
    },
    {
      "cell_type": "code",
      "source": [
        "image = cv2.imread('/content/drive/MyDrive/ComputerVision/images/people2 (1).jpg')\n",
        "cnn_detector = dlib.cnn_face_detection_model_v1('/content/drive/MyDrive/ComputerVision/Wights/mmod_human_face_detector.dat')"
      ],
      "metadata": {
        "id": "a92BjlzXiEQT"
      },
      "execution_count": 8,
      "outputs": []
    },
    {
      "cell_type": "code",
      "source": [
        "detection = cnn_detector(image, 1)\n",
        "for face in detection:\n",
        "  l, t, r, b, c = face.rect.left(), face.rect.top(), face.rect.right(), face.rect.bottom(), face.confidence\n",
        "  print (c)\n",
        "  cv2.rectangle(image, (l, t), (r, b), (0, 255, 0), 2)\n",
        "cv2_imshow(image)"
      ],
      "metadata": {
        "id": "s3P40tEKjKAp"
      },
      "execution_count": null,
      "outputs": []
    }
  ]
}